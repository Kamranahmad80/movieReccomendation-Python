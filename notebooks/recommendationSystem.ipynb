{
 "cells": [
  {
   "cell_type": "markdown",
   "metadata": {},
   "source": [
    "<h2>Data Exploration & Preprocessing</h2>"
   ]
  },
  {
   "cell_type": "code",
   "execution_count": 2,
   "metadata": {},
   "outputs": [],
   "source": [
    "import pandas as pd\n",
    "import difflib\n",
    "from sklearn.feature_extraction.text import CountVectorizer\n",
    "from sklearn.metrics.pairwise import cosine_similarity\n",
    "from sklearn.model_selection import train_test_split\n",
    "from sklearn.metrics import precision_score,recall_score,f1_score,accuracy_score\n",
    "from tabulate import tabulate\n",
    "\n",
    "\n"
   ]
  },
  {
   "cell_type": "code",
   "execution_count": 3,
   "metadata": {},
   "outputs": [
    {
     "name": "stdout",
     "output_type": "stream",
     "text": [
      "   movieId                               title  \\\n",
      "0        1                    Toy Story (1995)   \n",
      "1        2                      Jumanji (1995)   \n",
      "2        3             Grumpier Old Men (1995)   \n",
      "3        4            Waiting to Exhale (1995)   \n",
      "4        5  Father of the Bride Part II (1995)   \n",
      "\n",
      "                                        genres  index  \n",
      "0  Adventure|Animation|Children|Comedy|Fantasy      0  \n",
      "1                   Adventure|Children|Fantasy      1  \n",
      "2                               Comedy|Romance      2  \n",
      "3                         Comedy|Drama|Romance      3  \n",
      "4                                       Comedy      4  \n"
     ]
    }
   ],
   "source": [
    "\n",
    "# loading the movieLens dataset\n",
    "# ratings= pd.read_csv('../dataset/raw/rating.csv') # loading rating data\n",
    "moviesData= pd.read_csv('../dataset/raw/movie.csv')# loading movies data\n",
    "moviesData['index'] =moviesData.index\n",
    "print(moviesData.head())"
   ]
  },
  {
   "cell_type": "code",
   "execution_count": 4,
   "metadata": {},
   "outputs": [
    {
     "data": {
      "text/plain": [
       "movieId    0\n",
       "title      0\n",
       "genres     0\n",
       "index      0\n",
       "dtype: int64"
      ]
     },
     "execution_count": 4,
     "metadata": {},
     "output_type": "execute_result"
    }
   ],
   "source": [
    "# checking for missing values and duplicates\n",
    "nullValues=moviesData.isnull().sum()\n",
    "nullValues\n",
    "\n"
   ]
  },
  {
   "cell_type": "code",
   "execution_count": 5,
   "metadata": {},
   "outputs": [
    {
     "data": {
      "text/html": [
       "<div>\n",
       "<style scoped>\n",
       "    .dataframe tbody tr th:only-of-type {\n",
       "        vertical-align: middle;\n",
       "    }\n",
       "\n",
       "    .dataframe tbody tr th {\n",
       "        vertical-align: top;\n",
       "    }\n",
       "\n",
       "    .dataframe thead th {\n",
       "        text-align: right;\n",
       "    }\n",
       "</style>\n",
       "<table border=\"1\" class=\"dataframe\">\n",
       "  <thead>\n",
       "    <tr style=\"text-align: right;\">\n",
       "      <th></th>\n",
       "      <th>movieId</th>\n",
       "      <th>title</th>\n",
       "      <th>genres</th>\n",
       "    </tr>\n",
       "  </thead>\n",
       "  <tbody>\n",
       "    <tr>\n",
       "      <th>0</th>\n",
       "      <td>1</td>\n",
       "      <td>Toy Story (1995)</td>\n",
       "      <td>Adventure|Animation|Children|Comedy|Fantasy</td>\n",
       "    </tr>\n",
       "    <tr>\n",
       "      <th>1</th>\n",
       "      <td>2</td>\n",
       "      <td>Jumanji (1995)</td>\n",
       "      <td>Adventure|Children|Fantasy</td>\n",
       "    </tr>\n",
       "    <tr>\n",
       "      <th>2</th>\n",
       "      <td>3</td>\n",
       "      <td>Grumpier Old Men (1995)</td>\n",
       "      <td>Comedy|Romance</td>\n",
       "    </tr>\n",
       "    <tr>\n",
       "      <th>3</th>\n",
       "      <td>4</td>\n",
       "      <td>Waiting to Exhale (1995)</td>\n",
       "      <td>Comedy|Drama|Romance</td>\n",
       "    </tr>\n",
       "    <tr>\n",
       "      <th>4</th>\n",
       "      <td>5</td>\n",
       "      <td>Father of the Bride Part II (1995)</td>\n",
       "      <td>Comedy</td>\n",
       "    </tr>\n",
       "    <tr>\n",
       "      <th>...</th>\n",
       "      <td>...</td>\n",
       "      <td>...</td>\n",
       "      <td>...</td>\n",
       "    </tr>\n",
       "    <tr>\n",
       "      <th>27273</th>\n",
       "      <td>131254</td>\n",
       "      <td>Kein Bund für's Leben (2007)</td>\n",
       "      <td>Comedy</td>\n",
       "    </tr>\n",
       "    <tr>\n",
       "      <th>27274</th>\n",
       "      <td>131256</td>\n",
       "      <td>Feuer, Eis &amp; Dosenbier (2002)</td>\n",
       "      <td>Comedy</td>\n",
       "    </tr>\n",
       "    <tr>\n",
       "      <th>27275</th>\n",
       "      <td>131258</td>\n",
       "      <td>The Pirates (2014)</td>\n",
       "      <td>Adventure</td>\n",
       "    </tr>\n",
       "    <tr>\n",
       "      <th>27276</th>\n",
       "      <td>131260</td>\n",
       "      <td>Rentun Ruusu (2001)</td>\n",
       "      <td>(no genres listed)</td>\n",
       "    </tr>\n",
       "    <tr>\n",
       "      <th>27277</th>\n",
       "      <td>131262</td>\n",
       "      <td>Innocence (2014)</td>\n",
       "      <td>Adventure|Fantasy|Horror</td>\n",
       "    </tr>\n",
       "  </tbody>\n",
       "</table>\n",
       "<p>27278 rows × 3 columns</p>\n",
       "</div>"
      ],
      "text/plain": [
       "       movieId                               title  \\\n",
       "0            1                    Toy Story (1995)   \n",
       "1            2                      Jumanji (1995)   \n",
       "2            3             Grumpier Old Men (1995)   \n",
       "3            4            Waiting to Exhale (1995)   \n",
       "4            5  Father of the Bride Part II (1995)   \n",
       "...        ...                                 ...   \n",
       "27273   131254        Kein Bund für's Leben (2007)   \n",
       "27274   131256       Feuer, Eis & Dosenbier (2002)   \n",
       "27275   131258                  The Pirates (2014)   \n",
       "27276   131260                 Rentun Ruusu (2001)   \n",
       "27277   131262                    Innocence (2014)   \n",
       "\n",
       "                                            genres  \n",
       "0      Adventure|Animation|Children|Comedy|Fantasy  \n",
       "1                       Adventure|Children|Fantasy  \n",
       "2                                   Comedy|Romance  \n",
       "3                             Comedy|Drama|Romance  \n",
       "4                                           Comedy  \n",
       "...                                            ...  \n",
       "27273                                       Comedy  \n",
       "27274                                       Comedy  \n",
       "27275                                    Adventure  \n",
       "27276                           (no genres listed)  \n",
       "27277                     Adventure|Fantasy|Horror  \n",
       "\n",
       "[27278 rows x 3 columns]"
      ]
     },
     "execution_count": 5,
     "metadata": {},
     "output_type": "execute_result"
    }
   ],
   "source": [
    "selected_columns=moviesData[['movieId','title','genres']]\n",
    "selected_columns"
   ]
  },
  {
   "cell_type": "code",
   "execution_count": 7,
   "metadata": {},
   "outputs": [],
   "source": [
    "for null in selected_columns:\n",
    "    moviesData[null]=moviesData[null].fillna(' ')\n",
    "    "
   ]
  },
  {
   "cell_type": "code",
   "execution_count": 8,
   "metadata": {},
   "outputs": [
    {
     "data": {
      "text/plain": [
       "0    1 Toy Story (1995) Adventure|Animation|Childre...\n",
       "1          2 Jumanji (1995) Adventure|Children|Fantasy\n",
       "2             3 Grumpier Old Men (1995) Comedy|Romance\n",
       "3      4 Waiting to Exhale (1995) Comedy|Drama|Romance\n",
       "4          5 Father of the Bride Part II (1995) Comedy\n",
       "dtype: object"
      ]
     },
     "execution_count": 8,
     "metadata": {},
     "output_type": "execute_result"
    }
   ],
   "source": [
    "merged_column=moviesData['movieId'].astype(str)+\" \"+moviesData['title']+\" \"+moviesData['genres']\n",
    "merged_column.head()"
   ]
  },
  {
   "cell_type": "code",
   "execution_count": 13,
   "metadata": {},
   "outputs": [],
   "source": [
    "vectorizer=CountVectorizer() #Vectorizing genres\n",
    "feature_extraction=vectorizer.fit_transform(merged_column)\n",
    "\n",
    "similarity=cosine_similarity(feature_extraction)\n"
   ]
  },
  {
   "cell_type": "code",
   "execution_count": 32,
   "metadata": {},
   "outputs": [
    {
     "name": "stdout",
     "output_type": "stream",
     "text": [
      "Similar  movie to Toy story (1995)\n",
      "╒════════╤═══════════════════════════════════════════╤════════════════════╕\n",
      "│   Rank │ Title                                     │   Similarity Score │\n",
      "╞════════╪═══════════════════════════════════════════╪════════════════════╡\n",
      "│      1 │ Toy Story 2 (1999)                        │               0.82 │\n",
      "├────────┼───────────────────────────────────────────┼────────────────────┤\n",
      "│      2 │ Toy Story 3 (2010)                        │               0.78 │\n",
      "├────────┼───────────────────────────────────────────┼────────────────────┤\n",
      "│      3 │ Toy Story Toons: Hawaiian Vacation (2011) │               0.71 │\n",
      "├────────┼───────────────────────────────────────────┼────────────────────┤\n",
      "│      4 │ Toy Story Toons: Small Fry (2011)         │               0.71 │\n",
      "├────────┼───────────────────────────────────────────┼────────────────────┤\n",
      "│      5 │ Jumanji (1995)                            │               0.63 │\n",
      "├────────┼───────────────────────────────────────────┼────────────────────┤\n",
      "│      6 │ Antz (1998)                               │               0.62 │\n",
      "├────────┼───────────────────────────────────────────┼────────────────────┤\n",
      "│      7 │ Turbo (2013)                              │               0.62 │\n",
      "├────────┼───────────────────────────────────────────┼────────────────────┤\n",
      "│      8 │ Aladdin (1992)                            │               0.62 │\n",
      "├────────┼───────────────────────────────────────────┼────────────────────┤\n",
      "│      9 │ Shrek (2001)                              │               0.59 │\n",
      "├────────┼───────────────────────────────────────────┼────────────────────┤\n",
      "│     10 │ Monsters, Inc. (2001)                     │               0.59 │\n",
      "╘════════╧═══════════════════════════════════════════╧════════════════════╛\n"
     ]
    }
   ],
   "source": [
    "#recommendation movies function\n",
    "def reccomendMovie(movie_name,similarityMatrix,dataset, top_n=10):\n",
    "    titles=dataset['title'].tolist()\n",
    "    findCloseMatch=difflib.get_close_matches(movie_name,titles)\n",
    "\n",
    "    if not findCloseMatch:\n",
    "        return f\"no Matches found of the movie: {movie_name}\"\n",
    "    \n",
    "    closeMatch=findCloseMatch[0]\n",
    "\n",
    "    indexOfMovie=dataset[dataset.title==closeMatch]['index'].values[0]\n",
    "    \n",
    "    similarityScore=list(enumerate(similarityMatrix[indexOfMovie]))\n",
    "    \n",
    "    sortedSimilarMovies=sorted(similarityScore,key=lambda x:x[1],reverse=True)\n",
    "\n",
    "    recommendations=[]\n",
    "    for i, (index, score) in enumerate(sortedSimilarMovies[1:top_n + 1], start=1):\n",
    "        title = moviesData[moviesData.index == index]['title'].values[0]\n",
    "        recommendations.append([i, title, round(score, 2)])\n",
    "            # return recommendations\n",
    "    \n",
    "    print(tabulate( recommendations,headers=[\"Rank\",\"Title\",\"Similarity Score\"],tablefmt=\"fancy_grid\"))\n",
    "movieName=input(\"Enter name of Movie: \")\n",
    "print(f\"Similar  movie to {movieName}\")\n",
    "reccomendMovie(movieName,similarity,moviesData)   "
   ]
  },
  {
   "cell_type": "code",
   "execution_count": 43,
   "metadata": {},
   "outputs": [
    {
     "name": "stdout",
     "output_type": "stream",
     "text": [
      "training data set 19094\n",
      "testing data set 8184\n"
     ]
    }
   ],
   "source": [
    "\n",
    "x=moviesData['movieId']\n",
    "y=moviesData['genres']\n",
    "x_train,x_test,y_train,y_test=train_test_split(x,y,test_size=0.3,random_state=42)\n",
    "print(\"training data set\",len(x_train))\n",
    "print(\"testing data set\",len(x_test))"
   ]
  },
  {
   "cell_type": "code",
   "execution_count": null,
   "metadata": {},
   "outputs": [],
   "source": []
  }
 ],
 "metadata": {
  "kernelspec": {
   "display_name": "Python 3",
   "language": "python",
   "name": "python3"
  },
  "language_info": {
   "codemirror_mode": {
    "name": "ipython",
    "version": 3
   },
   "file_extension": ".py",
   "mimetype": "text/x-python",
   "name": "python",
   "nbconvert_exporter": "python",
   "pygments_lexer": "ipython3",
   "version": "3.12.6"
  }
 },
 "nbformat": 4,
 "nbformat_minor": 2
}
