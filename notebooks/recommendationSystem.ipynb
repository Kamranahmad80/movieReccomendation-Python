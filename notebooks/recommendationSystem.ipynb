{
 "cells": [
  {
   "cell_type": "markdown",
   "metadata": {},
   "source": [
    "<h2>Data Exploration & Preprocessing</h2>"
   ]
  },
  {
   "cell_type": "code",
   "execution_count": 1,
   "metadata": {},
   "outputs": [
    {
     "name": "stdout",
     "output_type": "stream",
     "text": [
      "   movieId                               title  \\\n",
      "0        1                    Toy Story (1995)   \n",
      "1        2                      Jumanji (1995)   \n",
      "2        3             Grumpier Old Men (1995)   \n",
      "3        4            Waiting to Exhale (1995)   \n",
      "4        5  Father of the Bride Part II (1995)   \n",
      "\n",
      "                                        genres  index  \n",
      "0  Adventure|Animation|Children|Comedy|Fantasy      0  \n",
      "1                   Adventure|Children|Fantasy      1  \n",
      "2                               Comedy|Romance      2  \n",
      "3                         Comedy|Drama|Romance      3  \n",
      "4                                       Comedy      4  \n"
     ]
    }
   ],
   "source": [
    "import pandas as pd  # For data manipulation and analysis\n",
    "import difflib  # For finding close matches of strings\n",
    "from sklearn.feature_extraction.text import CountVectorizer  # For converting text data into feature vectors\n",
    "from sklearn.metrics.pairwise import cosine_similarity  # For measuring similarity between feature vectors\n",
    "from sklearn.model_selection import train_test_split  # For splitting data into training and testing sets\n",
    "from sklearn.metrics import  accuracy_score  # For performance evaluation\n",
    "from sklearn.naive_bayes import MultinomialNB  # Naive Bayes algorithm for classification\n",
    "from tabulate import tabulate  # For displaying tabular data in a nicely formatted way\n",
    "\n",
    "# Load the MovieLens dataset\n",
    "moviesData = pd.read_csv('../dataset/raw/movie.csv')  # Load movie data\n",
    "moviesData['index'] = moviesData.index  # Add an index column for reference\n",
    "print(moviesData.head())  # Display the first few rows of the dataset\n"
   ]
  },
  {
   "cell_type": "markdown",
   "metadata": {},
   "source": [
    "<h2>Data Preprocessing <h2>"
   ]
  },
  {
   "cell_type": "code",
   "execution_count": null,
   "metadata": {},
   "outputs": [
    {
     "name": "stdout",
     "output_type": "stream",
     "text": [
      "movieId    0\n",
      "title      0\n",
      "genres     0\n",
      "index      0\n",
      "dtype: int64\n"
     ]
    },
    {
     "data": {
      "text/plain": [
       "0    1 Toy Story (1995) Adventure|Animation|Childre...\n",
       "1          2 Jumanji (1995) Adventure|Children|Fantasy\n",
       "2             3 Grumpier Old Men (1995) Comedy|Romance\n",
       "3      4 Waiting to Exhale (1995) Comedy|Drama|Romance\n",
       "4          5 Father of the Bride Part II (1995) Comedy\n",
       "dtype: object"
      ]
     },
     "execution_count": 6,
     "metadata": {},
     "output_type": "execute_result"
    }
   ],
   "source": [
    "# checking for missing values and duplicates\n",
    "nullValues=moviesData.isnull().sum()\n",
    "print(nullValues)\n",
    "\n",
    "# Combining multiple columns into a single string for feature extraction\n",
    "merged_column=moviesData['movieId'].astype(str)+\" \"+moviesData['title']+\" \"+moviesData['genres']\n",
    "merged_column.head()     # Display the first few merged rows\n",
    "\n"
   ]
  },
  {
   "cell_type": "code",
   "execution_count": 7,
   "metadata": {},
   "outputs": [
    {
     "data": {
      "text/plain": [
       "array([[1.        , 0.63245553, 0.28867513, 0.26726124, 0.25      ],\n",
       "       [0.63245553, 1.        , 0.18257419, 0.16903085, 0.15811388],\n",
       "       [0.28867513, 0.18257419, 1.        , 0.46291005, 0.28867513],\n",
       "       [0.26726124, 0.16903085, 0.46291005, 1.        , 0.26726124],\n",
       "       [0.25      , 0.15811388, 0.28867513, 0.26726124, 1.        ]])"
      ]
     },
     "execution_count": 7,
     "metadata": {},
     "output_type": "execute_result"
    }
   ],
   "source": [
    "# Vectorizing the merged column to extract features\n",
    "vectorizer=CountVectorizer()  # Initialize CountVectorizer\n",
    "feature_extraction=vectorizer.fit_transform(merged_column.head())  # Convert text data into numerical vectors\n",
    "\n",
    "# Calculating cosine similarity between feature vectors\n",
    "similarity=cosine_similarity(feature_extraction)\n",
    "similarity"
   ]
  },
  {
   "cell_type": "code",
   "execution_count": 16,
   "metadata": {},
   "outputs": [
    {
     "name": "stdout",
     "output_type": "stream",
     "text": [
      "Similar  movie to Jumanji \n",
      "╒════════╤══════════════════════════╤════════════════════╕\n",
      "│   Rank │ Title                    │   Similarity Score │\n",
      "╞════════╪══════════════════════════╪════════════════════╡\n",
      "│      1 │ Waiting to Exhale (1995) │               0.17 │\n",
      "├────────┼──────────────────────────┼────────────────────┤\n",
      "│      2 │ Grumpier Old Men (1995)  │               0.18 │\n",
      "├────────┼──────────────────────────┼────────────────────┤\n",
      "│      3 │ Toy Story (1995)         │               0.63 │\n",
      "├────────┼──────────────────────────┼────────────────────┤\n",
      "│      4 │ Jumanji (1995)           │               1    │\n",
      "╘════════╧══════════════════════════╧════════════════════╛\n"
     ]
    }
   ],
   "source": [
    "# Function to recommend movies based on a given movie name\n",
    "def reccomendMovie(movie_name,similarityMatrix,dataset, top_n=10):\n",
    "    titles=dataset['title'].tolist()\n",
    "    findCloseMatch=difflib.get_close_matches(movie_name,titles)\n",
    "\n",
    "    if not findCloseMatch:\n",
    "        return f\"no Matches found of the movie: {movie_name}\"\n",
    "    \n",
    "    closeMatch=findCloseMatch[0]\n",
    "\n",
    "    # Find the index of the matched movie\n",
    "    indexOfMovie=dataset[dataset.title==closeMatch]['index'].values[0]\n",
    "    \n",
    "    # Get similarity scores for the matched movie\n",
    "    similarityScore=list(enumerate(similarityMatrix[indexOfMovie]))\n",
    "    # Sort the movies by similarity scores \n",
    "    sortedSimilarMovies=sorted(similarityScore,key=lambda x:x[1])\n",
    "    \n",
    "    # Generate a list of recommendations\n",
    "    recommendations=[]\n",
    "    for i, (index, score) in enumerate(sortedSimilarMovies[1:top_n + 1], start=1):\n",
    "        title = moviesData[moviesData.index == index]['title'].values[0]\n",
    "        recommendations.append([i, title, round(score, 2)])\n",
    "            # return recommendations\n",
    "    \n",
    "    print(tabulate( recommendations,headers=[\"Rank\",\"Title\",\"Similarity Score\"],tablefmt=\"fancy_grid\"))\n",
    "movieName=input(\"Enter name of Movie: \")\n",
    "print(f\"Similar  movie to {movieName}\")\n",
    "reccomendMovie(movieName,similarity,moviesData)   "
   ]
  },
  {
   "cell_type": "code",
   "execution_count": 14,
   "metadata": {},
   "outputs": [
    {
     "name": "stdout",
     "output_type": "stream",
     "text": [
      "training data set 13639\n",
      "testing data set 13639\n"
     ]
    }
   ],
   "source": [
    "\n",
    "x=moviesData['title']\n",
    "y=moviesData['genres']\n",
    "x_train,x_test,y_train,y_test=train_test_split(x,y,test_size=0.5,random_state=42)\n",
    "print(\"training data set\",len(x_train))\n",
    "print(\"testing data set\",len(x_test))"
   ]
  },
  {
   "cell_type": "code",
   "execution_count": 21,
   "metadata": {},
   "outputs": [],
   "source": [
    "x_train_transformed=vectorizer.fit_transform(x_train)\n",
    "x_test_transformed=vectorizer.transform(x_test)"
   ]
  },
  {
   "cell_type": "code",
   "execution_count": null,
   "metadata": {},
   "outputs": [],
   "source": [
    "model=MultinomialNB()\n",
    "model.fit(x_train_transformed,y_train)"
   ]
  },
  {
   "cell_type": "code",
   "execution_count": null,
   "metadata": {},
   "outputs": [],
   "source": [
    "y_pred=model.predict(x_train_transformed)\n",
    "accuracy=accuracy_score(y_test,y_pred)\n",
    "print(f\"Accuracy :\", accuracy)"
   ]
  },
  {
   "cell_type": "code",
   "execution_count": null,
   "metadata": {},
   "outputs": [],
   "source": []
  }
 ],
 "metadata": {
  "kernelspec": {
   "display_name": "Python 3",
   "language": "python",
   "name": "python3"
  },
  "language_info": {
   "codemirror_mode": {
    "name": "ipython",
    "version": 3
   },
   "file_extension": ".py",
   "mimetype": "text/x-python",
   "name": "python",
   "nbconvert_exporter": "python",
   "pygments_lexer": "ipython3",
   "version": "3.12.6"
  }
 },
 "nbformat": 4,
 "nbformat_minor": 2
}
